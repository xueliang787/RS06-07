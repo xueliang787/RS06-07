{
  "nbformat": 4,
  "nbformat_minor": 0,
  "metadata": {
    "colab": {
      "name": "word2vec.ipynb",
      "provenance": [],
      "collapsed_sections": []
    },
    "kernelspec": {
      "name": "python3",
      "display_name": "Python 3"
    },
    "accelerator": "GPU"
  },
  "cells": [
    {
      "cell_type": "code",
      "metadata": {
        "id": "s-hAxBHOIbv5",
        "colab_type": "code",
        "outputId": "141efc0a-2728-4736-d61d-d3c1a6106b3f",
        "colab": {
          "base_uri": "https://localhost:8080/",
          "height": 34
        }
      },
      "source": [
        "from google.colab import drive\n",
        "drive.mount('/content/drive')\n",
        "import os\n",
        "os.chdir(\"/content/drive/My Drive/Colab Notebooks/\")"
      ],
      "execution_count": 2,
      "outputs": [
        {
          "output_type": "stream",
          "text": [
            "Drive already mounted at /content/drive; to attempt to forcibly remount, call drive.mount(\"/content/drive\", force_remount=True).\n"
          ],
          "name": "stdout"
        }
      ]
    },
    {
      "cell_type": "code",
      "metadata": {
        "id": "_IcsunUOC_4e",
        "colab_type": "code",
        "outputId": "fbd54daf-e434-47c0-d2fc-c06c9597a392",
        "colab": {
          "base_uri": "https://localhost:8080/",
          "height": 34
        }
      },
      "source": [
        "!pip install jieba"
      ],
      "execution_count": 3,
      "outputs": [
        {
          "output_type": "stream",
          "text": [
            "Requirement already satisfied: jieba in /usr/local/lib/python3.6/dist-packages (0.42.1)\n"
          ],
          "name": "stdout"
        }
      ]
    },
    {
      "cell_type": "code",
      "metadata": {
        "id": "wf6vb4q9_bRz",
        "colab_type": "code",
        "colab": {
          "base_uri": "https://localhost:8080/",
          "height": 302
        },
        "outputId": "773f91ad-d3ff-4159-f700-da38fa0c2bac"
      },
      "source": [
        "!pip install gensim"
      ],
      "execution_count": 4,
      "outputs": [
        {
          "output_type": "stream",
          "text": [
            "Requirement already satisfied: gensim in /usr/local/lib/python3.6/dist-packages (3.6.0)\n",
            "Requirement already satisfied: six>=1.5.0 in /usr/local/lib/python3.6/dist-packages (from gensim) (1.12.0)\n",
            "Requirement already satisfied: scipy>=0.18.1 in /usr/local/lib/python3.6/dist-packages (from gensim) (1.4.1)\n",
            "Requirement already satisfied: smart-open>=1.2.1 in /usr/local/lib/python3.6/dist-packages (from gensim) (1.9.0)\n",
            "Requirement already satisfied: numpy>=1.11.3 in /usr/local/lib/python3.6/dist-packages (from gensim) (1.17.5)\n",
            "Requirement already satisfied: requests in /usr/local/lib/python3.6/dist-packages (from smart-open>=1.2.1->gensim) (2.21.0)\n",
            "Requirement already satisfied: boto>=2.32 in /usr/local/lib/python3.6/dist-packages (from smart-open>=1.2.1->gensim) (2.49.0)\n",
            "Requirement already satisfied: boto3 in /usr/local/lib/python3.6/dist-packages (from smart-open>=1.2.1->gensim) (1.11.15)\n",
            "Requirement already satisfied: urllib3<1.25,>=1.21.1 in /usr/local/lib/python3.6/dist-packages (from requests->smart-open>=1.2.1->gensim) (1.24.3)\n",
            "Requirement already satisfied: idna<2.9,>=2.5 in /usr/local/lib/python3.6/dist-packages (from requests->smart-open>=1.2.1->gensim) (2.8)\n",
            "Requirement already satisfied: chardet<3.1.0,>=3.0.2 in /usr/local/lib/python3.6/dist-packages (from requests->smart-open>=1.2.1->gensim) (3.0.4)\n",
            "Requirement already satisfied: certifi>=2017.4.17 in /usr/local/lib/python3.6/dist-packages (from requests->smart-open>=1.2.1->gensim) (2019.11.28)\n",
            "Requirement already satisfied: jmespath<1.0.0,>=0.7.1 in /usr/local/lib/python3.6/dist-packages (from boto3->smart-open>=1.2.1->gensim) (0.9.4)\n",
            "Requirement already satisfied: s3transfer<0.4.0,>=0.3.0 in /usr/local/lib/python3.6/dist-packages (from boto3->smart-open>=1.2.1->gensim) (0.3.3)\n",
            "Requirement already satisfied: botocore<1.15.0,>=1.14.15 in /usr/local/lib/python3.6/dist-packages (from boto3->smart-open>=1.2.1->gensim) (1.14.15)\n",
            "Requirement already satisfied: docutils<0.16,>=0.10 in /usr/local/lib/python3.6/dist-packages (from botocore<1.15.0,>=1.14.15->boto3->smart-open>=1.2.1->gensim) (0.15.2)\n",
            "Requirement already satisfied: python-dateutil<3.0.0,>=2.1 in /usr/local/lib/python3.6/dist-packages (from botocore<1.15.0,>=1.14.15->boto3->smart-open>=1.2.1->gensim) (2.6.1)\n"
          ],
          "name": "stdout"
        }
      ]
    },
    {
      "cell_type": "code",
      "metadata": {
        "id": "3rkcfKq4C_6u",
        "colab_type": "code",
        "outputId": "abf3328e-d0a4-4ba1-c4f9-898bbce776fb",
        "colab": {
          "base_uri": "https://localhost:8080/",
          "height": 50
        }
      },
      "source": [
        "%tensorflow_version 2.x\n",
        "import tensorflow as tf\n",
        "device_name = tf.test.gpu_device_name()\n",
        "if device_name != '/device:GPU:0':\n",
        "  raise SystemError('GPU device not found')\n",
        "print('Found GPU at: {}'.format(device_name))"
      ],
      "execution_count": 5,
      "outputs": [
        {
          "output_type": "stream",
          "text": [
            "TensorFlow 2.x selected.\n",
            "Found GPU at: /device:GPU:0\n"
          ],
          "name": "stdout"
        }
      ]
    },
    {
      "cell_type": "code",
      "metadata": {
        "id": "GWJ44cVPIViy",
        "colab_type": "code",
        "colab": {}
      },
      "source": [
        "def gpu():\n",
        "  with tf.device('/device:GPU:0'):\n",
        "    random_image_gpu = tf.random.normal((100, 100, 100, 3))\n",
        "    net_gpu = tf.keras.layers.Conv2D(32, 7)(random_image_gpu)\n",
        "    return tf.math.reduce_sum(net_gpu)"
      ],
      "execution_count": 0,
      "outputs": []
    },
    {
      "cell_type": "code",
      "metadata": {
        "id": "iZsX5hVnRxwh",
        "colab_type": "code",
        "outputId": "fb190ae9-65e4-490c-93d1-1e6a90662c01",
        "colab": {
          "base_uri": "https://localhost:8080/",
          "height": 34
        }
      },
      "source": [
        "gpu()\n"
      ],
      "execution_count": 7,
      "outputs": [
        {
          "output_type": "execute_result",
          "data": {
            "text/plain": [
              "<tf.Tensor: shape=(), dtype=float32, numpy=-783.8444>"
            ]
          },
          "metadata": {
            "tags": []
          },
          "execution_count": 7
        }
      ]
    },
    {
      "cell_type": "code",
      "metadata": {
        "id": "XjqVBYLYBQYM",
        "colab_type": "code",
        "colab": {
          "base_uri": "https://localhost:8080/",
          "height": 84
        },
        "outputId": "6b98a2a8-a7c5-4876-fce7-acdea538d034"
      },
      "source": [
        "import jieba\n",
        "\n",
        "fR = open('three_kingdoms.txt', 'r', encoding='UTF-8')\n",
        "\n",
        "sent = fR.read()\n",
        "sent_list = jieba.cut(sent)\n",
        "\n",
        "fW = open('seg_three_kingdoms.txt', 'w', encoding='UTF-8')\n",
        "fW.write(' '.join(sent_list))\n",
        "\n",
        "fR.close()\n",
        "fW.close()"
      ],
      "execution_count": 8,
      "outputs": [
        {
          "output_type": "stream",
          "text": [
            "Building prefix dict from the default dictionary ...\n",
            "Dumping model to file cache /tmp/jieba.cache\n",
            "Loading model cost 0.780 seconds.\n",
            "Prefix dict has been built successfully.\n"
          ],
          "name": "stderr"
        }
      ]
    },
    {
      "cell_type": "code",
      "metadata": {
        "id": "9dVFrn9Kbjsb",
        "colab_type": "code",
        "colab": {
          "base_uri": "https://localhost:8080/",
          "height": 121
        },
        "outputId": "1e4422a8-b0db-47d2-c151-86ab0f3a1ecb"
      },
      "source": [
        "# -*-coding: utf-8 -*-\n",
        "# 将Word转换成Vec，然后计算相似度 \n",
        "from gensim.models import word2vec\n",
        "\n",
        "# 如果目录中有多个文件，可以使用PathLineSentences\n",
        "segment_folder = './'\n",
        "sentences = word2vec.PathLineSentences(segment_folder)\n",
        "\n",
        "# 设置模型参数，进行训练\n",
        "model = word2vec.Word2Vec(sentences, size=100, window=3, min_count=1)\n",
        "\n",
        "print(model.wv.most_similar(positive=['曹操', '刘备'], negative=['张飞']))\n"
      ],
      "execution_count": 9,
      "outputs": [
        {
          "output_type": "stream",
          "text": [
            "/usr/local/lib/python3.6/dist-packages/smart_open/smart_open_lib.py:402: UserWarning: This function is deprecated, use smart_open.open instead. See the migration notes for details: https://github.com/RaRe-Technologies/smart_open/blob/master/README.rst#migrating-to-the-new-open-function\n",
            "  'See the migration notes for details: %s' % _MIGRATION_NOTES_URL\n"
          ],
          "name": "stderr"
        },
        {
          "output_type": "stream",
          "text": [
            "[('既', 0.9965283870697021), ('丞相', 0.9964423179626465), ('某', 0.9959657192230225), ('朕', 0.994817852973938), ('臣', 0.9940588474273682), ('莫非', 0.9934382438659668), ('告', 0.9933726787567139), ('卿', 0.9927211999893188), ('此', 0.9919745326042175), ('何故', 0.9918042421340942)]\n"
          ],
          "name": "stdout"
        },
        {
          "output_type": "stream",
          "text": [
            "/usr/local/lib/python3.6/dist-packages/gensim/matutils.py:737: FutureWarning: Conversion of the second argument of issubdtype from `int` to `np.signedinteger` is deprecated. In future, it will be treated as `np.int64 == np.dtype(int).type`.\n",
            "  if np.issubdtype(vec.dtype, np.int):\n"
          ],
          "name": "stderr"
        }
      ]
    },
    {
      "cell_type": "code",
      "metadata": {
        "id": "Ikcylrq3bju2",
        "colab_type": "code",
        "colab": {
          "base_uri": "https://localhost:8080/",
          "height": 121
        },
        "outputId": "fe658825-30c4-402c-b982-fb24e00df24d"
      },
      "source": [
        "# 设置模型参数，进行训练\n",
        "model = word2vec.Word2Vec(sentences, size=128, window=5, min_count=5)\n",
        "\n",
        "print(model.wv.most_similar(positive=['曹操', '刘备'], negative=['张飞']))\n"
      ],
      "execution_count": 10,
      "outputs": [
        {
          "output_type": "stream",
          "text": [
            "/usr/local/lib/python3.6/dist-packages/smart_open/smart_open_lib.py:402: UserWarning: This function is deprecated, use smart_open.open instead. See the migration notes for details: https://github.com/RaRe-Technologies/smart_open/blob/master/README.rst#migrating-to-the-new-open-function\n",
            "  'See the migration notes for details: %s' % _MIGRATION_NOTES_URL\n"
          ],
          "name": "stderr"
        },
        {
          "output_type": "stream",
          "text": [
            "[('丞相', 0.984650731086731), ('神人', 0.9841830730438232), ('吾', 0.9840130805969238), ('臣', 0.9813820719718933), ('今', 0.9786193370819092), ('非', 0.9774093627929688), ('何往', 0.9766422510147095), ('之见', 0.9760663509368896), ('朕', 0.975705623626709), ('主公', 0.9750734567642212)]\n"
          ],
          "name": "stdout"
        },
        {
          "output_type": "stream",
          "text": [
            "/usr/local/lib/python3.6/dist-packages/gensim/matutils.py:737: FutureWarning: Conversion of the second argument of issubdtype from `int` to `np.signedinteger` is deprecated. In future, it will be treated as `np.int64 == np.dtype(int).type`.\n",
            "  if np.issubdtype(vec.dtype, np.int):\n"
          ],
          "name": "stderr"
        }
      ]
    },
    {
      "cell_type": "code",
      "metadata": {
        "id": "P2ljx59IbjxJ",
        "colab_type": "code",
        "colab": {
          "base_uri": "https://localhost:8080/",
          "height": 238
        },
        "outputId": "cbbd5c27-1b99-4de2-feab-c80276cf16ff"
      },
      "source": [
        "for key in model.wv.similar_by_word('曹操', topn =10):\n",
        "    print(key)"
      ],
      "execution_count": 11,
      "outputs": [
        {
          "output_type": "stream",
          "text": [
            "('孙权', 0.9808789491653442)\n",
            "('袁绍', 0.9761490821838379)\n",
            "('昨夜', 0.9755920171737671)\n",
            "('先主', 0.9755281805992126)\n",
            "('众将', 0.9749809503555298)\n",
            "('陈宫', 0.9748534560203552)\n",
            "('关公', 0.9742021560668945)\n",
            "('回报', 0.9738858342170715)\n",
            "('地', 0.9725598692893982)\n",
            "('瑁', 0.9723053574562073)\n"
          ],
          "name": "stdout"
        },
        {
          "output_type": "stream",
          "text": [
            "/usr/local/lib/python3.6/dist-packages/gensim/matutils.py:737: FutureWarning: Conversion of the second argument of issubdtype from `int` to `np.signedinteger` is deprecated. In future, it will be treated as `np.int64 == np.dtype(int).type`.\n",
            "  if np.issubdtype(vec.dtype, np.int):\n"
          ],
          "name": "stderr"
        }
      ]
    },
    {
      "cell_type": "code",
      "metadata": {
        "id": "_WJxpfRkbjzz",
        "colab_type": "code",
        "colab": {
          "base_uri": "https://localhost:8080/",
          "height": 406
        },
        "outputId": "88c3c029-c3c1-430a-814e-9f2a44a9487c"
      },
      "source": [
        "for key in model.wv.similar_by_word('曹操', topn =20):\n",
        "    print(key)"
      ],
      "execution_count": 14,
      "outputs": [
        {
          "output_type": "stream",
          "text": [
            "('孙权', 0.9808789491653442)\n",
            "('袁绍', 0.9761490821838379)\n",
            "('昨夜', 0.9755920171737671)\n",
            "('先主', 0.9755281805992126)\n",
            "('众将', 0.9749809503555298)\n",
            "('陈宫', 0.9748534560203552)\n",
            "('关公', 0.9742021560668945)\n",
            "('回报', 0.9738858342170715)\n",
            "('地', 0.9725598692893982)\n",
            "('瑁', 0.9723053574562073)\n",
            "('已取', 0.9717462658882141)\n",
            "('一事', 0.9716715216636658)\n",
            "('大骂', 0.9710440039634705)\n",
            "('面面相觑', 0.9708907008171082)\n",
            "('书', 0.9696208834648132)\n",
            "('对', 0.9695322513580322)\n",
            "('拜伏', 0.9693564176559448)\n",
            "('寻思', 0.9682172536849976)\n",
            "('往', 0.9681769013404846)\n",
            "('暂且', 0.9678669571876526)\n"
          ],
          "name": "stdout"
        },
        {
          "output_type": "stream",
          "text": [
            "/usr/local/lib/python3.6/dist-packages/gensim/matutils.py:737: FutureWarning: Conversion of the second argument of issubdtype from `int` to `np.signedinteger` is deprecated. In future, it will be treated as `np.int64 == np.dtype(int).type`.\n",
            "  if np.issubdtype(vec.dtype, np.int):\n"
          ],
          "name": "stderr"
        }
      ]
    }
  ]
}